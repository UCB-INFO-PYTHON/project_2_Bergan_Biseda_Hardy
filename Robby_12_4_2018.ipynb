{
 "cells": [
  {
   "cell_type": "markdown",
   "metadata": {},
   "source": [
    "## Import data and modify"
   ]
  },
  {
   "cell_type": "code",
   "execution_count": 116,
   "metadata": {},
   "outputs": [],
   "source": [
    "import numpy as np\n",
    "import pandas as pd\n",
    "import matplotlib.pyplot as plt\n",
    "import matplotlib.image as mpimg\n",
    "import seaborn as sns; sns.set()\n",
    "import matplotlib.ticker as mtick\n",
    "\n",
    "%matplotlib inline"
   ]
  },
  {
   "cell_type": "code",
   "execution_count": 117,
   "metadata": {},
   "outputs": [
    {
     "name": "stdout",
     "output_type": "stream",
     "text": [
      "(7441, 16)\n"
     ]
    },
    {
     "data": {
      "text/html": [
       "<div>\n",
       "<style scoped>\n",
       "    .dataframe tbody tr th:only-of-type {\n",
       "        vertical-align: middle;\n",
       "    }\n",
       "\n",
       "    .dataframe tbody tr th {\n",
       "        vertical-align: top;\n",
       "    }\n",
       "\n",
       "    .dataframe thead th {\n",
       "        text-align: right;\n",
       "    }\n",
       "</style>\n",
       "<table border=\"1\" class=\"dataframe\">\n",
       "  <thead>\n",
       "    <tr style=\"text-align: right;\">\n",
       "      <th></th>\n",
       "      <th>season</th>\n",
       "      <th>type</th>\n",
       "      <th>date_time</th>\n",
       "      <th>away_team_id</th>\n",
       "      <th>home_team_id</th>\n",
       "      <th>away_goals</th>\n",
       "      <th>home_goals</th>\n",
       "      <th>outcome</th>\n",
       "      <th>home_rink_side_start</th>\n",
       "      <th>venue</th>\n",
       "      <th>venue_link</th>\n",
       "      <th>venue_time_zone_id</th>\n",
       "      <th>venue_time_zone_offset</th>\n",
       "      <th>venue_time_zone_tz</th>\n",
       "      <th>away_team</th>\n",
       "      <th>home_team</th>\n",
       "    </tr>\n",
       "    <tr>\n",
       "      <th>game_id</th>\n",
       "      <th></th>\n",
       "      <th></th>\n",
       "      <th></th>\n",
       "      <th></th>\n",
       "      <th></th>\n",
       "      <th></th>\n",
       "      <th></th>\n",
       "      <th></th>\n",
       "      <th></th>\n",
       "      <th></th>\n",
       "      <th></th>\n",
       "      <th></th>\n",
       "      <th></th>\n",
       "      <th></th>\n",
       "      <th></th>\n",
       "      <th></th>\n",
       "    </tr>\n",
       "  </thead>\n",
       "  <tbody>\n",
       "    <tr>\n",
       "      <th>2012030221</th>\n",
       "      <td>20122013</td>\n",
       "      <td>P</td>\n",
       "      <td>2013-05-16</td>\n",
       "      <td>3</td>\n",
       "      <td>6</td>\n",
       "      <td>2</td>\n",
       "      <td>3</td>\n",
       "      <td>home win OT</td>\n",
       "      <td>left</td>\n",
       "      <td>TD Garden</td>\n",
       "      <td>/api/v1/venues/null</td>\n",
       "      <td>America/New_York</td>\n",
       "      <td>-4</td>\n",
       "      <td>EDT</td>\n",
       "      <td>Rangers</td>\n",
       "      <td>Bruins</td>\n",
       "    </tr>\n",
       "    <tr>\n",
       "      <th>2012030222</th>\n",
       "      <td>20122013</td>\n",
       "      <td>P</td>\n",
       "      <td>2013-05-19</td>\n",
       "      <td>3</td>\n",
       "      <td>6</td>\n",
       "      <td>2</td>\n",
       "      <td>5</td>\n",
       "      <td>home win REG</td>\n",
       "      <td>left</td>\n",
       "      <td>TD Garden</td>\n",
       "      <td>/api/v1/venues/null</td>\n",
       "      <td>America/New_York</td>\n",
       "      <td>-4</td>\n",
       "      <td>EDT</td>\n",
       "      <td>Rangers</td>\n",
       "      <td>Bruins</td>\n",
       "    </tr>\n",
       "    <tr>\n",
       "      <th>2012030225</th>\n",
       "      <td>20122013</td>\n",
       "      <td>P</td>\n",
       "      <td>2013-05-25</td>\n",
       "      <td>3</td>\n",
       "      <td>6</td>\n",
       "      <td>1</td>\n",
       "      <td>3</td>\n",
       "      <td>home win REG</td>\n",
       "      <td>left</td>\n",
       "      <td>TD Garden</td>\n",
       "      <td>/api/v1/venues/null</td>\n",
       "      <td>America/New_York</td>\n",
       "      <td>-4</td>\n",
       "      <td>EDT</td>\n",
       "      <td>Rangers</td>\n",
       "      <td>Bruins</td>\n",
       "    </tr>\n",
       "    <tr>\n",
       "      <th>2013020380</th>\n",
       "      <td>20132014</td>\n",
       "      <td>R</td>\n",
       "      <td>2013-11-29</td>\n",
       "      <td>3</td>\n",
       "      <td>6</td>\n",
       "      <td>2</td>\n",
       "      <td>3</td>\n",
       "      <td>home win REG</td>\n",
       "      <td>left</td>\n",
       "      <td>TD Garden</td>\n",
       "      <td>/api/v1/venues/null</td>\n",
       "      <td>America/New_York</td>\n",
       "      <td>-4</td>\n",
       "      <td>EDT</td>\n",
       "      <td>Rangers</td>\n",
       "      <td>Bruins</td>\n",
       "    </tr>\n",
       "    <tr>\n",
       "      <th>2012020179</th>\n",
       "      <td>20122013</td>\n",
       "      <td>R</td>\n",
       "      <td>2013-02-13</td>\n",
       "      <td>3</td>\n",
       "      <td>6</td>\n",
       "      <td>4</td>\n",
       "      <td>3</td>\n",
       "      <td>away win SO</td>\n",
       "      <td>left</td>\n",
       "      <td>TD Garden</td>\n",
       "      <td>/api/v1/venues/null</td>\n",
       "      <td>America/New_York</td>\n",
       "      <td>-4</td>\n",
       "      <td>EDT</td>\n",
       "      <td>Rangers</td>\n",
       "      <td>Bruins</td>\n",
       "    </tr>\n",
       "  </tbody>\n",
       "</table>\n",
       "</div>"
      ],
      "text/plain": [
       "              season type   date_time  away_team_id  home_team_id  away_goals  \\\n",
       "game_id                                                                         \n",
       "2012030221  20122013    P  2013-05-16             3             6           2   \n",
       "2012030222  20122013    P  2013-05-19             3             6           2   \n",
       "2012030225  20122013    P  2013-05-25             3             6           1   \n",
       "2013020380  20132014    R  2013-11-29             3             6           2   \n",
       "2012020179  20122013    R  2013-02-13             3             6           4   \n",
       "\n",
       "            home_goals       outcome home_rink_side_start      venue  \\\n",
       "game_id                                                                \n",
       "2012030221           3   home win OT                 left  TD Garden   \n",
       "2012030222           5  home win REG                 left  TD Garden   \n",
       "2012030225           3  home win REG                 left  TD Garden   \n",
       "2013020380           3  home win REG                 left  TD Garden   \n",
       "2012020179           3   away win SO                 left  TD Garden   \n",
       "\n",
       "                     venue_link venue_time_zone_id  venue_time_zone_offset  \\\n",
       "game_id                                                                      \n",
       "2012030221  /api/v1/venues/null   America/New_York                      -4   \n",
       "2012030222  /api/v1/venues/null   America/New_York                      -4   \n",
       "2012030225  /api/v1/venues/null   America/New_York                      -4   \n",
       "2013020380  /api/v1/venues/null   America/New_York                      -4   \n",
       "2012020179  /api/v1/venues/null   America/New_York                      -4   \n",
       "\n",
       "           venue_time_zone_tz away_team home_team  \n",
       "game_id                                            \n",
       "2012030221                EDT   Rangers    Bruins  \n",
       "2012030222                EDT   Rangers    Bruins  \n",
       "2012030225                EDT   Rangers    Bruins  \n",
       "2013020380                EDT   Rangers    Bruins  \n",
       "2012020179                EDT   Rangers    Bruins  "
      ]
     },
     "execution_count": 117,
     "metadata": {},
     "output_type": "execute_result"
    }
   ],
   "source": [
    "#Read in some CSV files from repository\n",
    "game = pd.read_csv('data/game.csv')\n",
    "game = game.set_index('game_id')\n",
    "team_info = pd.read_csv('data/team_info.csv')\n",
    "team_info = team_info.set_index('team_id')\n",
    "#note that abbreviation_x = away, abbreviation_y = home, need to change column names\n",
    "game = game.merge(team_info[['teamName']], left_on='away_team_id', right_on='team_id',right_index=True)\n",
    "game = game.merge(team_info[['teamName']], left_on='home_team_id', right_on='team_id',right_index=True)\n",
    "game.rename(columns={'teamName_x': 'away_team', 'teamName_y': 'home_team'}, inplace=True)\n",
    "print(game.shape)\n",
    "game.head()\n",
    "#game_teams_stats = pd.merge(game_teams_stats, game[['type']], on = 'game_id')\n"
   ]
  },
  {
   "cell_type": "code",
   "execution_count": 118,
   "metadata": {
    "scrolled": true
   },
   "outputs": [],
   "source": [
    "# create column in game df with binary home / away win; home win = 1, away = 0\n",
    "game.loc[game['home_goals'] > game['away_goals'], 'side_won'] = int(1)\n",
    "game.loc[game['home_goals'] < game['away_goals'], 'side_won'] = int(0)\n",
    "\n",
    "# ensure date_time column to pandas date time and add month column\n",
    "game['date_time'] = pd.to_datetime(game['date_time'])\n",
    "game['month'] = game['date_time'].dt.month"
   ]
  },
  {
   "cell_type": "code",
   "execution_count": 119,
   "metadata": {},
   "outputs": [],
   "source": [
    "#subset data for regular season and playoffs\n",
    "reg_season = game[(game.type == 'R')]\n",
    "playoffs = game[(game.type == 'P')]"
   ]
  },
  {
   "cell_type": "markdown",
   "metadata": {},
   "source": [
    "## Data validation"
   ]
  },
  {
   "cell_type": "code",
   "execution_count": 120,
   "metadata": {},
   "outputs": [
    {
     "data": {
      "text/html": [
       "<div>\n",
       "<style scoped>\n",
       "    .dataframe tbody tr th:only-of-type {\n",
       "        vertical-align: middle;\n",
       "    }\n",
       "\n",
       "    .dataframe tbody tr th {\n",
       "        vertical-align: top;\n",
       "    }\n",
       "\n",
       "    .dataframe thead th {\n",
       "        text-align: right;\n",
       "    }\n",
       "</style>\n",
       "<table border=\"1\" class=\"dataframe\">\n",
       "  <thead>\n",
       "    <tr style=\"text-align: right;\">\n",
       "      <th></th>\n",
       "      <th>games</th>\n",
       "      <th>teams</th>\n",
       "      <th>goals</th>\n",
       "      <th>games_per_team</th>\n",
       "      <th>goals_per_game</th>\n",
       "      <th>goals_per_team_per_game</th>\n",
       "    </tr>\n",
       "    <tr>\n",
       "      <th>season</th>\n",
       "      <th></th>\n",
       "      <th></th>\n",
       "      <th></th>\n",
       "      <th></th>\n",
       "      <th></th>\n",
       "      <th></th>\n",
       "    </tr>\n",
       "  </thead>\n",
       "  <tbody>\n",
       "    <tr>\n",
       "      <th>20122013</th>\n",
       "      <td>720</td>\n",
       "      <td>30</td>\n",
       "      <td>3919</td>\n",
       "      <td>48.0</td>\n",
       "      <td>5.443056</td>\n",
       "      <td>2.721528</td>\n",
       "    </tr>\n",
       "    <tr>\n",
       "      <th>20132014</th>\n",
       "      <td>1230</td>\n",
       "      <td>30</td>\n",
       "      <td>6751</td>\n",
       "      <td>82.0</td>\n",
       "      <td>5.488618</td>\n",
       "      <td>2.744309</td>\n",
       "    </tr>\n",
       "    <tr>\n",
       "      <th>20142015</th>\n",
       "      <td>1230</td>\n",
       "      <td>30</td>\n",
       "      <td>6719</td>\n",
       "      <td>82.0</td>\n",
       "      <td>5.462602</td>\n",
       "      <td>2.731301</td>\n",
       "    </tr>\n",
       "    <tr>\n",
       "      <th>20152016</th>\n",
       "      <td>1230</td>\n",
       "      <td>30</td>\n",
       "      <td>6672</td>\n",
       "      <td>82.0</td>\n",
       "      <td>5.424390</td>\n",
       "      <td>2.712195</td>\n",
       "    </tr>\n",
       "    <tr>\n",
       "      <th>20162017</th>\n",
       "      <td>1230</td>\n",
       "      <td>30</td>\n",
       "      <td>6803</td>\n",
       "      <td>82.0</td>\n",
       "      <td>5.530894</td>\n",
       "      <td>2.765447</td>\n",
       "    </tr>\n",
       "    <tr>\n",
       "      <th>20172018</th>\n",
       "      <td>1271</td>\n",
       "      <td>31</td>\n",
       "      <td>7552</td>\n",
       "      <td>82.0</td>\n",
       "      <td>5.941778</td>\n",
       "      <td>2.970889</td>\n",
       "    </tr>\n",
       "  </tbody>\n",
       "</table>\n",
       "</div>"
      ],
      "text/plain": [
       "          games  teams  goals  games_per_team  goals_per_game  \\\n",
       "season                                                          \n",
       "20122013    720     30   3919            48.0        5.443056   \n",
       "20132014   1230     30   6751            82.0        5.488618   \n",
       "20142015   1230     30   6719            82.0        5.462602   \n",
       "20152016   1230     30   6672            82.0        5.424390   \n",
       "20162017   1230     30   6803            82.0        5.530894   \n",
       "20172018   1271     31   7552            82.0        5.941778   \n",
       "\n",
       "          goals_per_team_per_game  \n",
       "season                             \n",
       "20122013                 2.721528  \n",
       "20132014                 2.744309  \n",
       "20142015                 2.731301  \n",
       "20152016                 2.712195  \n",
       "20162017                 2.765447  \n",
       "20172018                 2.970889  "
      ]
     },
     "execution_count": 120,
     "metadata": {},
     "output_type": "execute_result"
    }
   ],
   "source": [
    "#regular season data check\n",
    "team_count = pd.Series([len(x) for x in reg_season.groupby(['season'])['home_team'].unique()])\n",
    "game_count = pd.Series([x for x in reg_season['season'].value_counts()[::-1]])\n",
    "team_count.index = pd.Index(reg_season.groupby(['season'])['home_team'].unique().index)\n",
    "game_count.index = team_count.index\n",
    "goals =  pd.Series(reg_season.groupby(['season'])['away_goals'].sum() \\\n",
    "                   + reg_season.groupby(['season'])['home_goals'].sum())\n",
    "data_check = pd.DataFrame({'games':game_count,'teams':team_count, 'goals': goals})\n",
    "data_check['games_per_team'] = data_check.games/(data_check.teams/2)\n",
    "data_check['goals_per_game'] = data_check.goals/(data_check.games)\n",
    "data_check['goals_per_team_per_game'] = data_check.goals_per_game/2\n",
    "\n",
    "data_check"
   ]
  },
  {
   "cell_type": "code",
   "execution_count": 121,
   "metadata": {
    "scrolled": true
   },
   "outputs": [
    {
     "data": {
      "text/html": [
       "<div>\n",
       "<style scoped>\n",
       "    .dataframe tbody tr th:only-of-type {\n",
       "        vertical-align: middle;\n",
       "    }\n",
       "\n",
       "    .dataframe tbody tr th {\n",
       "        vertical-align: top;\n",
       "    }\n",
       "\n",
       "    .dataframe thead th {\n",
       "        text-align: right;\n",
       "    }\n",
       "</style>\n",
       "<table border=\"1\" class=\"dataframe\">\n",
       "  <thead>\n",
       "    <tr style=\"text-align: right;\">\n",
       "      <th></th>\n",
       "      <th>games</th>\n",
       "      <th>teams</th>\n",
       "      <th>goals</th>\n",
       "      <th>goals_per_game</th>\n",
       "      <th>goals_per_team_per_game</th>\n",
       "    </tr>\n",
       "    <tr>\n",
       "      <th>season</th>\n",
       "      <th></th>\n",
       "      <th></th>\n",
       "      <th></th>\n",
       "      <th></th>\n",
       "      <th></th>\n",
       "    </tr>\n",
       "  </thead>\n",
       "  <tbody>\n",
       "    <tr>\n",
       "      <th>20122013</th>\n",
       "      <td>84</td>\n",
       "      <td>16</td>\n",
       "      <td>432</td>\n",
       "      <td>5.443056</td>\n",
       "      <td>2.721528</td>\n",
       "    </tr>\n",
       "    <tr>\n",
       "      <th>20132014</th>\n",
       "      <td>86</td>\n",
       "      <td>16</td>\n",
       "      <td>520</td>\n",
       "      <td>5.488618</td>\n",
       "      <td>2.744309</td>\n",
       "    </tr>\n",
       "    <tr>\n",
       "      <th>20142015</th>\n",
       "      <td>87</td>\n",
       "      <td>16</td>\n",
       "      <td>448</td>\n",
       "      <td>5.462602</td>\n",
       "      <td>2.731301</td>\n",
       "    </tr>\n",
       "    <tr>\n",
       "      <th>20152016</th>\n",
       "      <td>89</td>\n",
       "      <td>16</td>\n",
       "      <td>478</td>\n",
       "      <td>5.424390</td>\n",
       "      <td>2.712195</td>\n",
       "    </tr>\n",
       "    <tr>\n",
       "      <th>20162017</th>\n",
       "      <td>91</td>\n",
       "      <td>16</td>\n",
       "      <td>449</td>\n",
       "      <td>5.530894</td>\n",
       "      <td>2.765447</td>\n",
       "    </tr>\n",
       "    <tr>\n",
       "      <th>20172018</th>\n",
       "      <td>93</td>\n",
       "      <td>16</td>\n",
       "      <td>496</td>\n",
       "      <td>5.941778</td>\n",
       "      <td>2.970889</td>\n",
       "    </tr>\n",
       "  </tbody>\n",
       "</table>\n",
       "</div>"
      ],
      "text/plain": [
       "          games  teams  goals  goals_per_game  goals_per_team_per_game\n",
       "season                                                                \n",
       "20122013     84     16    432        5.443056                 2.721528\n",
       "20132014     86     16    520        5.488618                 2.744309\n",
       "20142015     87     16    448        5.462602                 2.731301\n",
       "20152016     89     16    478        5.424390                 2.712195\n",
       "20162017     91     16    449        5.530894                 2.765447\n",
       "20172018     93     16    496        5.941778                 2.970889"
      ]
     },
     "execution_count": 121,
     "metadata": {},
     "output_type": "execute_result"
    }
   ],
   "source": [
    "# playoff data check\n",
    "team_count = pd.Series([len(x) for x in playoffs.groupby(['season'])['home_team'].unique()])\n",
    "game_count = pd.Series([x for x in playoffs['season'].value_counts()[::-1]])\n",
    "team_count.index = pd.Index(reg_season.groupby(['season'])['home_team'].unique().index)\n",
    "game_count.index = team_count.index\n",
    "goals =  pd.Series(playoffs.groupby(['season'])['away_goals'].sum() \\\n",
    "                   + playoffs.groupby(['season'])['home_goals'].sum())\n",
    "p_data_check = pd.DataFrame({'games':game_count,'teams':team_count, 'goals': goals})\n",
    "p_data_check['goals_per_game'] = data_check.goals/(data_check.games)\n",
    "p_data_check['goals_per_team_per_game'] = data_check.goals_per_game/2\n",
    "p_data_check"
   ]
  },
  {
   "cell_type": "code",
   "execution_count": 122,
   "metadata": {},
   "outputs": [
    {
     "data": {
      "text/plain": [
       "season                      0\n",
       "type                        0\n",
       "date_time                   0\n",
       "away_team_id                0\n",
       "home_team_id                0\n",
       "away_goals                  0\n",
       "home_goals                  0\n",
       "outcome                     0\n",
       "home_rink_side_start      116\n",
       "venue                       0\n",
       "venue_link                  0\n",
       "venue_time_zone_id          0\n",
       "venue_time_zone_offset      0\n",
       "venue_time_zone_tz          0\n",
       "away_team                   0\n",
       "home_team                   0\n",
       "side_won                    0\n",
       "month                       0\n",
       "dtype: int64"
      ]
     },
     "execution_count": 122,
     "metadata": {},
     "output_type": "execute_result"
    }
   ],
   "source": [
    "# null check\n",
    "game.isnull().sum()"
   ]
  },
  {
   "cell_type": "markdown",
   "metadata": {},
   "source": [
    "## Exploratory Analysis of Game Data"
   ]
  },
  {
   "cell_type": "code",
   "execution_count": 123,
   "metadata": {
    "scrolled": true
   },
   "outputs": [
    {
     "name": "stdout",
     "output_type": "stream",
     "text": [
      "20172018    1355\n",
      "20132014    1323\n",
      "20152016    1321\n",
      "20142015    1319\n",
      "20162017    1317\n",
      "20122013     806\n",
      "Name: season, dtype: int64\n",
      "Total games in data set: 7,441\n"
     ]
    }
   ],
   "source": [
    "# of games in each season - regular season + playoffs; note 2012-2013 is shortened by lockout\n",
    "games_by_season = game['season'].value_counts()\n",
    "total_games = sum(games_by_season)\n",
    "print(games_by_season)\n",
    "\n",
    "print(\"Total games in data set:\", \"{:,}\".format(total_games))"
   ]
  },
  {
   "cell_type": "code",
   "execution_count": 124,
   "metadata": {},
   "outputs": [
    {
     "name": "stdout",
     "output_type": "stream",
     "text": [
      "Home win % in 2012-2013 through 2017-2018 seasons: 54.95%\n"
     ]
    }
   ],
   "source": [
    "# calc total home win percentage in data set\n",
    "home_wins = game['side_won'].sum()\n",
    "total_wins = game['side_won'].count()\n",
    "home_win_pct = \"{:.2%}\".format(home_wins / total_wins)\n",
    "print(\"Home win % in 2012-2013 through 2017-2018 seasons:\", home_win_pct)"
   ]
  },
  {
   "cell_type": "code",
   "execution_count": 125,
   "metadata": {},
   "outputs": [
    {
     "name": "stdout",
     "output_type": "stream",
     "text": [
      "Home regular season win pct: 54.84%. Home playoff win pct: 56.42%\n"
     ]
    }
   ],
   "source": [
    "# calc total home win percentage playoffs vs. regular season\n",
    "tot_reg = game[game.type == 'R'].count()[\"side_won\"]\n",
    "home_reg = game[(game.type == 'R') & (game.side_won == 1)].sum()[\"side_won\"]\n",
    "tot_po = game[game.type == 'P'].count()[\"side_won\"]\n",
    "home_po = game[(game.type == 'P') & (game.side_won == 1)].sum()[\"side_won\"]\n",
    "home_reg_win_pct = \"{:.2%}\".format(home_reg / tot_reg)\n",
    "home_po_win_pct = \"{:.2%}\".format(home_po / tot_po)\n",
    "print(\"Home regular season win pct: \" + str(home_reg_win_pct) + \". Home playoff win pct: \" \\\n",
    "      + str(home_po_win_pct))"
   ]
  },
  {
   "cell_type": "code",
   "execution_count": 126,
   "metadata": {},
   "outputs": [
    {
     "data": {
      "text/html": [
       "<div>\n",
       "<style scoped>\n",
       "    .dataframe tbody tr th:only-of-type {\n",
       "        vertical-align: middle;\n",
       "    }\n",
       "\n",
       "    .dataframe tbody tr th {\n",
       "        vertical-align: top;\n",
       "    }\n",
       "\n",
       "    .dataframe thead th {\n",
       "        text-align: right;\n",
       "    }\n",
       "</style>\n",
       "<table border=\"1\" class=\"dataframe\">\n",
       "  <thead>\n",
       "    <tr style=\"text-align: right;\">\n",
       "      <th></th>\n",
       "      <th>playoffs</th>\n",
       "      <th>regular</th>\n",
       "    </tr>\n",
       "    <tr>\n",
       "      <th>season</th>\n",
       "      <th></th>\n",
       "      <th></th>\n",
       "    </tr>\n",
       "  </thead>\n",
       "  <tbody>\n",
       "    <tr>\n",
       "      <th>20122013</th>\n",
       "      <td>0.686047</td>\n",
       "      <td>0.568056</td>\n",
       "    </tr>\n",
       "    <tr>\n",
       "      <th>20132014</th>\n",
       "      <td>0.602151</td>\n",
       "      <td>0.536585</td>\n",
       "    </tr>\n",
       "    <tr>\n",
       "      <th>20142015</th>\n",
       "      <td>0.573034</td>\n",
       "      <td>0.541463</td>\n",
       "    </tr>\n",
       "    <tr>\n",
       "      <th>20152016</th>\n",
       "      <td>0.505495</td>\n",
       "      <td>0.529268</td>\n",
       "    </tr>\n",
       "    <tr>\n",
       "      <th>20162017</th>\n",
       "      <td>0.540230</td>\n",
       "      <td>0.559350</td>\n",
       "    </tr>\n",
       "    <tr>\n",
       "      <th>20172018</th>\n",
       "      <td>0.476190</td>\n",
       "      <td>0.563336</td>\n",
       "    </tr>\n",
       "  </tbody>\n",
       "</table>\n",
       "</div>"
      ],
      "text/plain": [
       "          playoffs   regular\n",
       "season                      \n",
       "20122013  0.686047  0.568056\n",
       "20132014  0.602151  0.536585\n",
       "20142015  0.573034  0.541463\n",
       "20152016  0.505495  0.529268\n",
       "20162017  0.540230  0.559350\n",
       "20172018  0.476190  0.563336"
      ]
     },
     "execution_count": 126,
     "metadata": {},
     "output_type": "execute_result"
    }
   ],
   "source": [
    "home_pct_by_season = game.groupby(['season','type'])['side_won'].mean().unstack()\n",
    "home_pct_by_season.columns = ['playoffs','regular']\n",
    "home_pct_by_season"
   ]
  },
  {
   "cell_type": "code",
   "execution_count": 127,
   "metadata": {},
   "outputs": [
    {
     "data": {
      "image/png": "[encoded data removed]",
      "text/plain": [
       "<Figure size 720x360 with 1 Axes>"
      ]
     },
     "metadata": {
      "needs_background": "light"
     },
     "output_type": "display_data"
    }
   ],
   "source": [
    "xbar_width = .35\n",
    "y1 = home_pct_by_season['regular']\n",
    "y2 = home_pct_by_season['playoffs']\n",
    "xval= np.arange(len(home_pct_by_season))\n",
    "\n",
    "fig = plt.figure(figsize=(10,5))\n",
    "ax1 = fig.add_subplot(1,1,1)\n",
    "ax1.set_title('% Games Won by Home Team')\n",
    "ax1.set_ylabel('% Games Won')\n",
    "ax1.set_xlabel('Season')\n",
    "ax1.set_xticks(xval)\n",
    "ax1.set_xticklabels(home_pct_by_season.index)\n",
    "fmt = '{x:,.2%}'\n",
    "tick = mtick.StrMethodFormatter(fmt)\n",
    "ax1.yaxis.set_major_formatter(tick)\n",
    "\n",
    "ax1.bar(xval-xbar_width/2,height=y1, width=bar_width,color='b',label='regular season')\n",
    "ax1.bar(xval+xbar_width/2,height=y2,width=bar_width,color='r',label='playoffs')\n",
    "ax1.legend()\n",
    "ax1.grid(False)\n",
    "\n",
    "pass\n"
   ]
  },
  {
   "cell_type": "code",
   "execution_count": 128,
   "metadata": {},
   "outputs": [
    {
     "data": {
      "text/plain": [
       "season    month\n",
       "20122013  1        0.604396\n",
       "          2        0.502564\n",
       "          3        0.602564\n",
       "          4        0.575000\n",
       "20132014  1        0.537037\n",
       "          2        0.612500\n",
       "          3        0.504386\n",
       "          4        0.533333\n",
       "          10       0.529101\n",
       "          11       0.536946\n",
       "          12       0.550239\n",
       "20142015  1        0.571429\n",
       "          2        0.500000\n",
       "          3        0.497717\n",
       "          4        0.590361\n",
       "          10       0.530201\n",
       "          11       0.541063\n",
       "          12       0.593750\n",
       "20152016  1        0.521978\n",
       "          2        0.507772\n",
       "          3        0.549550\n",
       "          4        0.453333\n",
       "          10       0.478261\n",
       "          11       0.533679\n",
       "          12       0.598039\n",
       "20162017  1        0.547368\n",
       "          2        0.502762\n",
       "          3        0.567100\n",
       "          4        0.556962\n",
       "          10       0.653846\n",
       "          11       0.592417\n",
       "          12       0.519231\n",
       "20172018  1        0.494318\n",
       "          2        0.560976\n",
       "          3        0.578723\n",
       "          4        0.650000\n",
       "          10       0.530726\n",
       "          11       0.547264\n",
       "          12       0.623256\n",
       "Name: side_won, dtype: float64"
      ]
     },
     "execution_count": 128,
     "metadata": {},
     "output_type": "execute_result"
    }
   ],
   "source": [
    "home_pct_by_month = reg_season.groupby(['season','month'])['side_won'].mean()\n",
    "home_pct_by_month"
   ]
  },
  {
   "cell_type": "code",
   "execution_count": 12,
   "metadata": {},
   "outputs": [
    {
     "name": "stdout",
     "output_type": "stream",
     "text": [
      "Home goals scored: 2.9154970337143684\n",
      "Away goals scored: 2.6431775430473157\n",
      "Differential: 0.27231949066705274\n"
     ]
    }
   ],
   "source": [
    "#goals scored home vs. away\n",
    "home_goals_pg = reg_season['home_goals'].sum() / reg_season['home_goals'].count()\n",
    "away_goals_pg = reg_season['away_goals'].sum() / \\\n",
    "            reg_season['home_goals'].count()\n",
    "differential_pg = home_goals_pg - away_goals_pg\n",
    "print(\"Home goals scored: \" + str(home_goals_pg) + \"\\nAway goals scored: \" \\\n",
    "      + str(away_goals_pg) + \"\\nDifferential: \" + str(differential_pg))"
   ]
  },
  {
   "cell_type": "code",
   "execution_count": 140,
   "metadata": {
    "scrolled": true
   },
   "outputs": [],
   "source": [
    "#goals for and against by team (home goals scored - away goals scored; home goals given up vs. away goals given up)\n",
    "goals_for_by_team = pd.Series(reg_season.groupby(['home_team'])['home_goals'].mean() \\\n",
    "                              - reg_season.groupby(['away_team'])['away_goals'].mean())\n",
    "goals_against_by_team = pd.Series(reg_season.groupby(['home_team'])['away_goals'].mean() \\\n",
    "                                  - reg_season.groupby(['away_team'])['home_goals'].mean())\n",
    "goals_for_against = pd.DataFrame({'goals_for_diff':goals_for_by_team, 'goals_against_diff':goals_against_by_team, \n",
    "                                  'total':goals_for_by_team - goals_against_by_team})\n",
    "goals_for_against = goals_for_against.sort_values(by='total',ascending=False)"
   ]
  },
  {
   "cell_type": "code",
   "execution_count": 141,
   "metadata": {},
   "outputs": [
    {
     "data": {
      "image/png": "[encoded data removed]",
      "text/plain": [
       "<Figure size 720x504 with 1 Axes>"
      ]
     },
     "metadata": {},
     "output_type": "display_data"
    }
   ],
   "source": [
    "sns.set(style = 'white')\n",
    "fig = plt.figure(figsize=(10,7))\n",
    "ax = fig.add_subplot(1,1,1)\n",
    "ax = sns.pointplot(x=goals_for_against['goals_against_diff'], y=goals_for_against.index, hue = goals_for_against.index, join=False)\n",
    "ax = sns.pointplot(x=goals_for_against['goals_for_diff'], y=goals_for_against.index, hue = goals_for_against.index, join=False)\n",
    "ax.set(xlabel='Home vs Away Goal Differential', title = 'Home Team Advantage - Goals Scored vs. Given Up')\n",
    "#plt.legend(bbox_to_anchor=(1.05, 1), loc=2, borderaxespad=0.)\n",
    "ax.get_legend().set_visible(False)\n",
    "#fmt = '{x:,.2%}'\n",
    "#tick = mtick.StrMethodFormatter(fmt)\n",
    "#ax.xaxis.set_major_formatter(tick)\n",
    "pass"
   ]
  },
  {
   "cell_type": "markdown",
   "metadata": {},
   "source": [
    "## Exploratory Analysis of Game Team Data"
   ]
  },
  {
   "cell_type": "code",
   "execution_count": 74,
   "metadata": {},
   "outputs": [
    {
     "data": {
      "text/plain": [
       "(14882, 14)"
      ]
     },
     "execution_count": 74,
     "metadata": {},
     "output_type": "execute_result"
    }
   ],
   "source": [
    "game_teams_stats = pd.read_csv('data/game_teams_stats.csv')\n",
    "game_teams_stats = game_teams_stats.set_index('game_id')\n",
    "#team_info = pd.read_csv('data/team_info.csv')\n",
    "#team_info = team_info.set_index('team_id')\n",
    "game_teams_stats.shape"
   ]
  },
  {
   "cell_type": "code",
   "execution_count": 75,
   "metadata": {},
   "outputs": [
    {
     "data": {
      "text/plain": [
       "team_id                   0\n",
       "HoA                       0\n",
       "won                       0\n",
       "settled_in                0\n",
       "head_coach                0\n",
       "goals                     0\n",
       "shots                     0\n",
       "hits                      0\n",
       "pim                       0\n",
       "powerPlayOpportunities    0\n",
       "powerPlayGoals            0\n",
       "faceOffWinPercentage      0\n",
       "giveaways                 0\n",
       "takeaways                 0\n",
       "dtype: int64"
      ]
     },
     "execution_count": 75,
     "metadata": {},
     "output_type": "execute_result"
    }
   ],
   "source": [
    "game_teams_stats.isnull().sum()"
   ]
  },
  {
   "cell_type": "code",
   "execution_count": 76,
   "metadata": {
    "scrolled": false
   },
   "outputs": [
    {
     "data": {
      "text/html": [
       "<div>\n",
       "<style scoped>\n",
       "    .dataframe tbody tr th:only-of-type {\n",
       "        vertical-align: middle;\n",
       "    }\n",
       "\n",
       "    .dataframe tbody tr th {\n",
       "        vertical-align: top;\n",
       "    }\n",
       "\n",
       "    .dataframe thead th {\n",
       "        text-align: right;\n",
       "    }\n",
       "</style>\n",
       "<table border=\"1\" class=\"dataframe\">\n",
       "  <thead>\n",
       "    <tr style=\"text-align: right;\">\n",
       "      <th></th>\n",
       "      <th>team_id</th>\n",
       "      <th>HoA</th>\n",
       "      <th>won</th>\n",
       "      <th>settled_in</th>\n",
       "      <th>head_coach</th>\n",
       "      <th>goals</th>\n",
       "      <th>shots</th>\n",
       "      <th>hits</th>\n",
       "      <th>pim</th>\n",
       "      <th>powerPlayOpportunities</th>\n",
       "      <th>powerPlayGoals</th>\n",
       "      <th>faceOffWinPercentage</th>\n",
       "      <th>giveaways</th>\n",
       "      <th>takeaways</th>\n",
       "      <th>type</th>\n",
       "      <th>season</th>\n",
       "      <th>teamName</th>\n",
       "    </tr>\n",
       "    <tr>\n",
       "      <th>game_id</th>\n",
       "      <th></th>\n",
       "      <th></th>\n",
       "      <th></th>\n",
       "      <th></th>\n",
       "      <th></th>\n",
       "      <th></th>\n",
       "      <th></th>\n",
       "      <th></th>\n",
       "      <th></th>\n",
       "      <th></th>\n",
       "      <th></th>\n",
       "      <th></th>\n",
       "      <th></th>\n",
       "      <th></th>\n",
       "      <th></th>\n",
       "      <th></th>\n",
       "      <th></th>\n",
       "    </tr>\n",
       "  </thead>\n",
       "  <tbody>\n",
       "    <tr>\n",
       "      <th>2012030221</th>\n",
       "      <td>3</td>\n",
       "      <td>away</td>\n",
       "      <td>False</td>\n",
       "      <td>OT</td>\n",
       "      <td>John Tortorella</td>\n",
       "      <td>2</td>\n",
       "      <td>35</td>\n",
       "      <td>44</td>\n",
       "      <td>8</td>\n",
       "      <td>3</td>\n",
       "      <td>0</td>\n",
       "      <td>44.8</td>\n",
       "      <td>17</td>\n",
       "      <td>7</td>\n",
       "      <td>P</td>\n",
       "      <td>20122013</td>\n",
       "      <td>Rangers</td>\n",
       "    </tr>\n",
       "    <tr>\n",
       "      <th>2012030222</th>\n",
       "      <td>3</td>\n",
       "      <td>away</td>\n",
       "      <td>False</td>\n",
       "      <td>REG</td>\n",
       "      <td>John Tortorella</td>\n",
       "      <td>2</td>\n",
       "      <td>37</td>\n",
       "      <td>33</td>\n",
       "      <td>11</td>\n",
       "      <td>5</td>\n",
       "      <td>0</td>\n",
       "      <td>51.7</td>\n",
       "      <td>1</td>\n",
       "      <td>4</td>\n",
       "      <td>P</td>\n",
       "      <td>20122013</td>\n",
       "      <td>Rangers</td>\n",
       "    </tr>\n",
       "    <tr>\n",
       "      <th>2012030223</th>\n",
       "      <td>3</td>\n",
       "      <td>home</td>\n",
       "      <td>False</td>\n",
       "      <td>REG</td>\n",
       "      <td>John Tortorella</td>\n",
       "      <td>1</td>\n",
       "      <td>24</td>\n",
       "      <td>37</td>\n",
       "      <td>2</td>\n",
       "      <td>2</td>\n",
       "      <td>0</td>\n",
       "      <td>38.2</td>\n",
       "      <td>7</td>\n",
       "      <td>9</td>\n",
       "      <td>P</td>\n",
       "      <td>20122013</td>\n",
       "      <td>Rangers</td>\n",
       "    </tr>\n",
       "    <tr>\n",
       "      <th>2012030224</th>\n",
       "      <td>3</td>\n",
       "      <td>home</td>\n",
       "      <td>True</td>\n",
       "      <td>OT</td>\n",
       "      <td>John Tortorella</td>\n",
       "      <td>4</td>\n",
       "      <td>32</td>\n",
       "      <td>40</td>\n",
       "      <td>8</td>\n",
       "      <td>4</td>\n",
       "      <td>1</td>\n",
       "      <td>46.3</td>\n",
       "      <td>9</td>\n",
       "      <td>7</td>\n",
       "      <td>P</td>\n",
       "      <td>20122013</td>\n",
       "      <td>Rangers</td>\n",
       "    </tr>\n",
       "    <tr>\n",
       "      <th>2012030225</th>\n",
       "      <td>3</td>\n",
       "      <td>away</td>\n",
       "      <td>False</td>\n",
       "      <td>REG</td>\n",
       "      <td>John Tortorella</td>\n",
       "      <td>1</td>\n",
       "      <td>29</td>\n",
       "      <td>25</td>\n",
       "      <td>13</td>\n",
       "      <td>2</td>\n",
       "      <td>1</td>\n",
       "      <td>50.9</td>\n",
       "      <td>5</td>\n",
       "      <td>3</td>\n",
       "      <td>P</td>\n",
       "      <td>20122013</td>\n",
       "      <td>Rangers</td>\n",
       "    </tr>\n",
       "  </tbody>\n",
       "</table>\n",
       "</div>"
      ],
      "text/plain": [
       "            team_id   HoA    won settled_in       head_coach  goals  shots  \\\n",
       "game_id                                                                      \n",
       "2012030221        3  away  False         OT  John Tortorella      2     35   \n",
       "2012030222        3  away  False        REG  John Tortorella      2     37   \n",
       "2012030223        3  home  False        REG  John Tortorella      1     24   \n",
       "2012030224        3  home   True         OT  John Tortorella      4     32   \n",
       "2012030225        3  away  False        REG  John Tortorella      1     29   \n",
       "\n",
       "            hits  pim  powerPlayOpportunities  powerPlayGoals  \\\n",
       "game_id                                                         \n",
       "2012030221    44    8                       3               0   \n",
       "2012030222    33   11                       5               0   \n",
       "2012030223    37    2                       2               0   \n",
       "2012030224    40    8                       4               1   \n",
       "2012030225    25   13                       2               1   \n",
       "\n",
       "            faceOffWinPercentage  giveaways  takeaways type    season teamName  \n",
       "game_id                                                                         \n",
       "2012030221                  44.8         17          7    P  20122013  Rangers  \n",
       "2012030222                  51.7          1          4    P  20122013  Rangers  \n",
       "2012030223                  38.2          7          9    P  20122013  Rangers  \n",
       "2012030224                  46.3          9          7    P  20122013  Rangers  \n",
       "2012030225                  50.9          5          3    P  20122013  Rangers  "
      ]
     },
     "execution_count": 76,
     "metadata": {},
     "output_type": "execute_result"
    }
   ],
   "source": [
    "# join with game df to get regular season vs. playoffs, season and abbreviation\n",
    "game_teams_stats = game_teams_stats.merge(game[['type', 'season']], on = 'game_id')\n",
    "game_teams_stats = game_teams_stats.merge(team_info[['teamName']], on='team_id', right_index=True)\n",
    "#get regular season only for ease\n",
    "reg_season_stats = game_teams_stats[game_teams_stats['type']=='R']\n",
    "\n",
    "game_teams_stats.head()"
   ]
  },
  {
   "cell_type": "code",
   "execution_count": 143,
   "metadata": {},
   "outputs": [],
   "source": [
    "team_win_rate = reg_season_stats.groupby(['teamName','HoA'])['won'].mean()\n",
    "team_win_df = team_win_rate.unstack()\n",
    "team_win_df['diff'] = team_win_df['home'] - team_win_df['away']\n",
    "#print(team_win_df)\n",
    "team_win_series = team_win_df['diff'].sort_values(ascending=False)"
   ]
  },
  {
   "cell_type": "code",
   "execution_count": 89,
   "metadata": {},
   "outputs": [
    {
     "data": {
      "image/png": "[encoded data removed]",
      "text/plain": [
       "<Figure size 720x504 with 1 Axes>"
      ]
     },
     "metadata": {},
     "output_type": "display_data"
    }
   ],
   "source": [
    "sns.set(style = 'white')\n",
    "fig = plt.figure(figsize=(10,7))\n",
    "ax = fig.add_subplot(1,1,1)\n",
    "ax = sns.pointplot(x=team_win_series, y=team_win_series.index, hue = team_win_series.index, join=False)\n",
    "ax.set(xlabel='Home vs Away Win Differential', title = 'Home Team Advantage(Win Rate Differential)')\n",
    "#plt.legend(bbox_to_anchor=(1.05, 1), loc=2, borderaxespad=0.)\n",
    "ax.get_legend().set_visible(False)\n",
    "fmt = '{x:,.2%}'\n",
    "tick = mtick.StrMethodFormatter(fmt)\n",
    "ax.xaxis.set_major_formatter(tick)\n",
    "pass"
   ]
  },
  {
   "cell_type": "code",
   "execution_count": 94,
   "metadata": {},
   "outputs": [],
   "source": [
    "def top_teams(num_teams):\n",
    "    '''Returns list of top teams by number of wins. Parameter is number of teams returned'''\n",
    "    seasons = {i:[] for i in game_teams_stats['season'].unique()}\n",
    "    for i in seasons.keys():\n",
    "        subdata = game_teams_stats[game_teams_stats.season == i]\n",
    "        rankbyseason = subdata.won.groupby([subdata.teamName,]).sum().sort_values(ascending=False)\n",
    "        seasons[i].extend(list(rankbyseason.index[:num_teams]))\n",
    "    \n",
    "    return seasons"
   ]
  },
  {
   "cell_type": "code",
   "execution_count": 95,
   "metadata": {},
   "outputs": [],
   "source": [
    "def top_team_category(rankings, row):\n",
    "    if row['teamName'] in rankings[row['season']]:\n",
    "        return 'good'\n",
    "    else:\n",
    "        return 'bad'"
   ]
  },
  {
   "cell_type": "code",
   "execution_count": 96,
   "metadata": {},
   "outputs": [],
   "source": [
    "rankings = top_teams(10)\n",
    "game_teams_stats['classifier'] = game_teams_stats.apply(lambda row: top_team_category(rankings, row),axis = 1)"
   ]
  },
  {
   "cell_type": "code",
   "execution_count": 110,
   "metadata": {},
   "outputs": [
    {
     "data": {
      "text/plain": [
       "Int64Index([20122013, 20132014, 20142015, 20152016, 20162017, 20172018], dtype='int64', name='season')"
      ]
     },
     "execution_count": 110,
     "metadata": {},
     "output_type": "execute_result"
    }
   ],
   "source": [
    "diff_by_season = game_teams_stats.groupby(['season','classifier','HoA'])['won'].agg('mean').unstack()\n",
    "diff_by_season['diff'] = diff_by_season['home'] - diff_by_season['away']\n",
    "diff_by_season['check'] = diff_by_season['home'] + diff_by_season['away']\n",
    "#diff_by_season['diff'].sort_values(ascending = False)\n",
    "diff_by_season.index.unique(level='season')"
   ]
  },
  {
   "cell_type": "code",
   "execution_count": 112,
   "metadata": {},
   "outputs": [
    {
     "data": {
      "image/png": "[encoded data removed]",
      "text/plain": [
       "<Figure size 720x360 with 1 Axes>"
      ]
     },
     "metadata": {},
     "output_type": "display_data"
    }
   ],
   "source": [
    "xbar_width = .35\n",
    "y1 = pd.DataFrame(diff_by_season['diff'][:,'good'])\n",
    "y2 = pd.DataFrame(diff_by_season['diff'][:,'bad'])\n",
    "x = diff_by_season.index.unique(level='season')\n",
    "xval= np.arange(len(x))\n",
    "\n",
    "fig = plt.figure(figsize=(10,5))\n",
    "ax1 = fig.add_subplot(1,1,1)\n",
    "ax1.set_title('% Games Won by Home Team')\n",
    "ax1.set_ylabel('% Games Won')\n",
    "ax1.set_xlabel('Season')\n",
    "ax1.set_xticks(xval)\n",
    "ax1.set_xticklabels(x)\n",
    "fmt = '{x:,.2%}'\n",
    "tick = mtick.StrMethodFormatter(fmt)\n",
    "ax1.yaxis.set_major_formatter(tick)\n",
    "ax1.plot(xval,y1,label='Good Teams')\n",
    "ax1.plot(xval,y2,label='Bad Teams')\n",
    "#ax1.plot(xval-xbar_width/2,height=y1, width=bar_width,color='b',label='regular season')\n",
    "#ax1.plot(xval+xbar_width/2,height=y2,width=bar_width,color='r',label='playoffs')\n",
    "ax1.legend()\n",
    "#ax1.grid(False)\n",
    "\n",
    "pass"
   ]
  }
 ],
 "metadata": {
  "kernelspec": {
   "display_name": "Python 3",
   "language": "python",
   "name": "python3"
  },
  "language_info": {
   "codemirror_mode": {
    "name": "ipython",
    "version": 3
   },
   "file_extension": ".py",
   "mimetype": "text/x-python",
   "name": "python",
   "nbconvert_exporter": "python",
   "pygments_lexer": "ipython3",
   "version": "3.7.0"
  }
 },
 "nbformat": 4,
 "nbformat_minor": 2
}
